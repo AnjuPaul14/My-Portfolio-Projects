{
  "nbformat": 4,
  "nbformat_minor": 0,
  "metadata": {
    "colab": {
      "provenance": [],
      "collapsed_sections": []
    },
    "kernelspec": {
      "name": "python3",
      "display_name": "Python 3"
    },
    "language_info": {
      "name": "python"
    }
  },
  "cells": [
    {
      "cell_type": "markdown",
      "metadata": {
        "id": "uL5k9XLDbiJp"
      },
      "source": [
        "# Encryption Algorithm"
      ]
    },
    {
      "cell_type": "markdown",
      "metadata": {
        "id": "P1zl988kbiJq"
      },
      "source": [
        "Encryption is the method by which information is converted into secret code that hides the information's true meaning. The science of encrypting and decrypting information is called cryptography.\n",
        "\n",
        "In computing, unencrypted data is also known as plaintext, and encrypted data is called ciphertext. The formulas used to encode and decode messages are called encryption algorithms"
      ]
    },
    {
      "cell_type": "markdown",
      "metadata": {
        "id": "IkG2fZdIbiJq"
      },
      "source": [
        "In this task you need to create a simple transposition encryption algorithms where plaintext characters are re-arranged instead of replaced to encode a message. This algorithm  encodes a message by writing it down and up diagonally over successive rows as illustrated below. For example, the secret message **“THIS IS A SECRET MESSAGE”** encoded over 4 rails would look like this:"
      ]
    },
    {
      "cell_type": "markdown",
      "metadata": {
        "id": "nJbAZ8DvbiJr"
      },
      "source": [
        "We then create the ciphertext by reading off characters left to right, top to bottom. For our example message, the cipher text becomes:\n",
        "\n",
        "**TATGHSSEMAEIIERESSCS**"
      ]
    },
    {
      "cell_type": "markdown",
      "metadata": {
        "id": "15I1ShxfbiJr"
      },
      "source": [
        "Write a piece of code capable of **encrypting** and **decrypting** a message using the aforementioned technique.  Use the last digit (most right) of your **Student ID** as the encryption key. "
      ]
    },
    {
      "cell_type": "markdown",
      "metadata": {
        "id": "T5lHgVAhbiJs"
      },
      "source": [
        "Sample input plainText: **You speak an infinite deal of nothing.**"
      ]
    },
    {
      "cell_type": "markdown",
      "metadata": {
        "id": "smgyZ_6WbiJs"
      },
      "source": [
        "Encryption Algorithm:"
      ]
    },
    {
      "cell_type": "code",
      "execution_count": null,
      "metadata": {
        "id": "leKI6rkTbiJs"
      },
      "outputs": [],
      "source": [
        "def encryptionAlgorithm(text, key):\n",
        "    plaintext = text\n",
        "    key = key\n",
        "    #create a dummy matrix with 'key' rows and word length of input string\n",
        "    encrypttext = [['' for i in range(len(plaintext))] for j in range(key) ]\n",
        "    #Distribute the letters to the diagonals of the dummy matrix\n",
        "    row = 0\n",
        "    column = 0\n",
        "    for letter in plaintext:\n",
        "        encrypttext[row][column] = letter\n",
        "        if row == 0:\n",
        "            flag = 0\n",
        "        elif row == (key-1):\n",
        "            flag =1\n",
        "    \n",
        "        if flag == 0:\n",
        "            row += 1\n",
        "            column += 1\n",
        "        elif flag == 1:\n",
        "            row -= 1\n",
        "            column += 1\n",
        "    #Now read through the rows and join the letters\n",
        "    Finalencrypttext = ''.join(column for row in encrypttext for column in row)\n",
        "    \n",
        "    print(\"The Encrypted code for the given input is :\",Finalencrypttext)"
      ]
    },
    {
      "cell_type": "markdown",
      "metadata": {
        "id": "Qw5c7NkibiJt"
      },
      "source": [
        "Decryption Algorithm"
      ]
    },
    {
      "cell_type": "code",
      "execution_count": null,
      "metadata": {
        "id": "JAbWX17ibiJt"
      },
      "outputs": [],
      "source": [
        "def decryptionAlgorithm(text, key):\n",
        "    Encryptedtext = text\n",
        "    key = key\n",
        "    # Create a dummy matrix to store the Encrypted Text\n",
        "    DecryptionMatrix = [['' for i in range(len(Encryptedtext))] for j in range(key) ]\n",
        "    # Write a dummy character on the required diagonal positions \n",
        "    row = 0\n",
        "    column = 0\n",
        "    for letter in Encryptedtext:\n",
        "        DecryptionMatrix[row][column] = '_'\n",
        "        if row == 0:\n",
        "            flag = 0\n",
        "        elif row == (key-1):\n",
        "            flag =1\n",
        "    \n",
        "        if flag == 0:\n",
        "            row += 1\n",
        "            column += 1\n",
        "        elif flag == 1:\n",
        "            row -= 1\n",
        "            column += 1\n",
        "    #Replace the dummy character with the letters of the encrypted text\n",
        "    code = 0 \n",
        "    for i in range(key):\n",
        "        for j in range(len(Encryptedtext)):\n",
        "            if ((DecryptionMatrix[i][j] == '_') and (code < len(Encryptedtext))):\n",
        "                DecryptionMatrix[i][j] = Encryptedtext[code]\n",
        "                code += 1\n",
        "    #Read the text diagonally and store it into another variable\n",
        "    OriginalText = []\n",
        "    row = 0\n",
        "    column =0\n",
        "    \n",
        "    for column in range(len(Encryptedtext)):\n",
        "        OriginalText.append(DecryptionMatrix[row][column])\n",
        "                        \n",
        "        if row == 0:\n",
        "            flag = 0\n",
        "        elif row == (key-1):\n",
        "            flag =1\n",
        "    \n",
        "        if flag == 0:\n",
        "            row += 1\n",
        "            column += 1\n",
        "        elif flag == 1:\n",
        "            row -= 1\n",
        "            column += 1\n",
        " \n",
        "    #join the letters to get the original \n",
        "    DecryptedText = (\"\".join(OriginalText))\n",
        "    \n",
        "    print(\"The Decrypted message for the given input is :\",DecryptedText)"
      ]
    },
    {
      "cell_type": "code",
      "execution_count": null,
      "metadata": {
        "id": "Hj9gULXCbiJu",
        "outputId": "5df7af4d-d97f-4950-f48e-c31cccabb23b"
      },
      "outputs": [
        {
          "name": "stdout",
          "output_type": "stream",
          "text": [
            "Enter your text here: You speak an infinite deal of nothing.\n",
            "Enter the key (the last digit of your student id):3\n",
            "Which action would you like to do - Encryption(E) or Decryption(D) :E\n",
            "The Encrypted code for the given input is : Ysk ieaftgo pa nifnt elo ohn.ueanid ni\n"
          ]
        }
      ],
      "source": [
        "text = str(input(\"Enter your text here: \") )\n",
        "key = int(input(\"Enter the key (the last digit of your student id):\"))\n",
        "action = str(input(\"Which action would you like to do - Encryption(E) or Decryption(D) :\" ))\n",
        "if (action == 'E'):\n",
        "    encryptionAlgorithm(text, key)\n",
        "elif (action == 'D'):\n",
        "    decryptionAlgorithm(text, key)"
      ]
    },
    {
      "cell_type": "markdown",
      "metadata": {
        "id": "1Byf8m6GbiJu"
      },
      "source": [
        "**The below section is just to show the decryption functionality, I will pass the same output that is received just above.The code decrypts the text and provides the original** "
      ]
    },
    {
      "cell_type": "code",
      "execution_count": null,
      "metadata": {
        "id": "1prp6b03biJv",
        "outputId": "148cadc8-284a-480f-de3e-bb670accbf48"
      },
      "outputs": [
        {
          "name": "stdout",
          "output_type": "stream",
          "text": [
            "Enter your text here: Ysk ieaftgo pa nifnt elo ohn.ueanid ni\n",
            "Enter the key (the last digit of your student id):3\n",
            "Which action would you like to do - Encryption(E) or Decryption(D) :D\n",
            "The Decrypted message for the given input is : You speak an infinite deal of nothing.\n"
          ]
        }
      ],
      "source": [
        "text = str(input(\"Enter your text here: \") )\n",
        "key = int(input(\"Enter the key (the last digit of your student id):\"))\n",
        "action = str(input(\"Which action would you like to do - Encryption(E) or Decryption(D) :\" ))\n",
        "if (action == 'E'):\n",
        "    encryptionAlgorithm(text, key)\n",
        "elif (action == 'D'):\n",
        "    decryptionAlgorithm(text, key)"
      ]
    }
  ]
}